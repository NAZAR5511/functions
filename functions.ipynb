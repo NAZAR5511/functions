{
  "nbformat": 4,
  "nbformat_minor": 0,
  "metadata": {
    "colab": {
      "provenance": []
    },
    "kernelspec": {
      "name": "python3",
      "display_name": "Python 3"
    },
    "language_info": {
      "name": "python"
    }
  },
  "cells": [
    {
      "cell_type": "markdown",
      "source": [
        "# 1. Difference Between a Function and a Method in Python"
      ],
      "metadata": {
        "id": "6n1-o0VScmxv"
      }
    },
    {
      "cell_type": "markdown",
      "source": [
        "- Function: A function in Python is a block of code that performs a specific task, and it can be called independently. Functions are defined using the def keyword and can be called with or without arguments.\n",
        "\n",
        "- Method: A method is a function that is associated with an object and is called using the object. Methods are essentially functions that operate on the data within the object (i.e., they are functions within classes)."
      ],
      "metadata": {
        "id": "4e4EnLGDcxlb"
      }
    },
    {
      "cell_type": "markdown",
      "source": [
        "# 2. Function Arguments and Parameters in Python"
      ],
      "metadata": {
        "id": "JOuVbzcZc8E2"
      }
    },
    {
      "cell_type": "markdown",
      "source": [
        "- Parameters: Parameters are the variables listed inside the parentheses in the function definition. They act as placeholders for the values that are passed to the function when it is called.\n",
        "- Arguments: Arguments are the actual values or data that you pass into the function when calling it. They correspond to the function parameters."
      ],
      "metadata": {
        "id": "5J70uPkwdMsh"
      }
    },
    {
      "cell_type": "code",
      "source": [
        "# Example:\n",
        "\n",
        "def greet(name):   # 'name' is a parameter\n",
        "    print(f\"Hello, {name}!\")\n",
        "\n",
        "greet(\"Alice\")  # \"Alice\" is an argument"
      ],
      "metadata": {
        "colab": {
          "base_uri": "https://localhost:8080/"
        },
        "id": "CGd9bv-qdV8n",
        "outputId": "dfc23aae-1eec-4766-b1ef-18e9a82e2306"
      },
      "execution_count": 1,
      "outputs": [
        {
          "output_type": "stream",
          "name": "stdout",
          "text": [
            "Hello, Alice!\n"
          ]
        }
      ]
    },
    {
      "cell_type": "markdown",
      "source": [
        "# 3. Different Ways to Define and Call a Function in Python"
      ],
      "metadata": {
        "id": "e5fDVRi9d4wQ"
      }
    },
    {
      "cell_type": "code",
      "source": [
        "# Regular Function Definition: Using the def keyword.\n",
        "def add(x, y):\n",
        "    return x + y\n",
        "result = add(3, 5)"
      ],
      "metadata": {
        "id": "2hFLMIFOeIf_"
      },
      "execution_count": 3,
      "outputs": []
    },
    {
      "cell_type": "code",
      "source": [
        "# Lambda Function: Using lambda to define an anonymous function.\n",
        "multiply = lambda x, y: x * y\n",
        "result = multiply(3, 5)"
      ],
      "metadata": {
        "id": "GesucC2iecUX"
      },
      "execution_count": 4,
      "outputs": []
    },
    {
      "cell_type": "markdown",
      "source": [
        "# 4. Purpose of the return Statement in a Python Function"
      ],
      "metadata": {
        "id": "zhkEUabbfHdr"
      }
    },
    {
      "cell_type": "markdown",
      "source": [
        "The return statement is used to send a result from a function back to the caller. It allows the function to output a value, which can then be used elsewhere in the code."
      ],
      "metadata": {
        "id": "2zStINajfPTj"
      }
    },
    {
      "cell_type": "code",
      "source": [
        "def add(x, y):\n",
        "    return x + y\n",
        "result = add(3, 5)  # The value 8 is returned"
      ],
      "metadata": {
        "id": "O-0LCwCAfQJF"
      },
      "execution_count": 5,
      "outputs": []
    },
    {
      "cell_type": "markdown",
      "source": [
        "# 5. Iterators vs Iterables in Python"
      ],
      "metadata": {
        "id": "0uq4LcMXfevB"
      }
    },
    {
      "cell_type": "markdown",
      "source": [
        "- Iterable: An iterable is any object in Python that can return an iterator, i.e., an object you can loop over (e.g., lists, strings, dictionaries).\n",
        "- Iterator: An iterator is an object that keeps track of its current state during iteration. It implements the __iter__() and __next__() methods, which allow it to traverse through elements one at a time."
      ],
      "metadata": {
        "id": "bvtzDLT5fqZ9"
      }
    },
    {
      "cell_type": "code",
      "source": [
        "#  Example:\n",
        "\n",
        "iterable = [1, 2, 3]\n",
        "iterator = iter(iterable)\n",
        "\n",
        "print(next(iterator))\n",
        "print(next(iterator))\n",
        "print(next(iterator))"
      ],
      "metadata": {
        "colab": {
          "base_uri": "https://localhost:8080/"
        },
        "id": "EV2XZlMdfxK2",
        "outputId": "a1fca968-20d6-4808-f1fa-e00c3f83749e"
      },
      "execution_count": 6,
      "outputs": [
        {
          "output_type": "stream",
          "name": "stdout",
          "text": [
            "1\n",
            "2\n",
            "3\n"
          ]
        }
      ]
    },
    {
      "cell_type": "markdown",
      "source": [
        "# 6. Concept of Generators in Python and How They Are Defined"
      ],
      "metadata": {
        "id": "9SpkJcNPgHnq"
      }
    },
    {
      "cell_type": "markdown",
      "source": [
        "A generator is a special type of iterator in Python that is defined using the yield keyword. Instead of returning a value, a generator yields a value, suspends execution, and can resume where it left off, which allows for memory-efficient iteration over large datasets."
      ],
      "metadata": {
        "id": "InSvK4jqgSmC"
      }
    },
    {
      "cell_type": "code",
      "source": [
        "#Example:\n",
        "\n",
        "def count_up_to(n):\n",
        "    count = 1\n",
        "    while count <= n:\n",
        "        yield count\n",
        "        count += 1\n",
        "\n",
        "gen = count_up_to(5)\n",
        "for number in gen:\n",
        "    print(number)"
      ],
      "metadata": {
        "colab": {
          "base_uri": "https://localhost:8080/"
        },
        "id": "pkGpVRqqgasN",
        "outputId": "3448c384-4fb4-497a-a392-716cae85ad42"
      },
      "execution_count": 7,
      "outputs": [
        {
          "output_type": "stream",
          "name": "stdout",
          "text": [
            "1\n",
            "2\n",
            "3\n",
            "4\n",
            "5\n"
          ]
        }
      ]
    },
    {
      "cell_type": "markdown",
      "source": [
        "# 7. Advantages of Using Generators Over Regular Functions"
      ],
      "metadata": {
        "id": "49irYjXKgrKy"
      }
    },
    {
      "cell_type": "markdown",
      "source": [
        "- Memory Efficiency: Generators do not store the entire dataset in memory, unlike regular functions that return all values at once (e.g., returning a large list).\n",
        "- Lazy Evaluation: Values are generated only when needed, which makes them efficient for processing large or infinite datasets."
      ],
      "metadata": {
        "id": "aXFsasJ0gz1n"
      }
    },
    {
      "cell_type": "markdown",
      "source": [
        "# 8. Lambda Function in Python and When It Is Typically Used"
      ],
      "metadata": {
        "id": "SU4ekrwDg8K1"
      }
    },
    {
      "cell_type": "markdown",
      "source": [
        "A lambda function is an anonymous, one-line function defined using the lambda keyword. It is typically used when a simple function is required for a short period and is not intended to be reused."
      ],
      "metadata": {
        "id": "gPkubouXhJH6"
      }
    },
    {
      "cell_type": "code",
      "source": [
        "#Example:\n",
        "\n",
        "square = lambda x: x * x\n",
        "result = square(4)  # 16"
      ],
      "metadata": {
        "id": "a9rM7_dXhJ0F"
      },
      "execution_count": 8,
      "outputs": []
    },
    {
      "cell_type": "markdown",
      "source": [
        "# 9. Purpose and Usage of the map() Function in Python"
      ],
      "metadata": {
        "id": "5IAGd-wvhcN-"
      }
    },
    {
      "cell_type": "markdown",
      "source": [
        "The map() function applies a given function to each item in an iterable (e.g., a list) and returns a map object (an iterator) with the results."
      ],
      "metadata": {
        "id": "MQc5ib1ehl3q"
      }
    },
    {
      "cell_type": "code",
      "source": [
        "# Example:\n",
        "\n",
        "def square(x):\n",
        "    return x * x\n",
        "\n",
        "numbers = [1, 2, 3, 4]\n",
        "result = map(square, numbers)  # Applying 'square' to each element in the list\n",
        "print(list(result))  # Output: [1, 4, 9, 16]"
      ],
      "metadata": {
        "colab": {
          "base_uri": "https://localhost:8080/"
        },
        "id": "gqyOV_PHhmgh",
        "outputId": "25356a76-487d-4275-b009-b02cecc765bc"
      },
      "execution_count": 9,
      "outputs": [
        {
          "output_type": "stream",
          "name": "stdout",
          "text": [
            "[1, 4, 9, 16]\n"
          ]
        }
      ]
    },
    {
      "cell_type": "markdown",
      "source": [
        "# 10. Difference Between map(), reduce(), and filter() Functions in Python"
      ],
      "metadata": {
        "id": "UaEZDpl8h5ls"
      }
    },
    {
      "cell_type": "markdown",
      "source": [
        "- map(): Applies a function to each element of an iterable and returns an iterator of the results.\n",
        "- reduce(): Applies a binary function (a function that takes two arguments) cumulatively to the items of an iterable to reduce the iterable to a single value.\n",
        "- filter(): Filters elements of an iterable based on a function that returns True or False, returning an iterator of elements that satisfy the condition."
      ],
      "metadata": {
        "id": "RXFPoWHEiBzy"
      }
    },
    {
      "cell_type": "code",
      "source": [
        "#Example:\n",
        "\n",
        "from functools import reduce\n",
        "\n",
        "# map()\n",
        "result_map = map(lambda x: x * 2, [1, 2, 3, 4])\n",
        "\n",
        "# reduce()\n",
        "result_reduce = reduce(lambda x, y: x + y, [1, 2, 3, 4])\n",
        "\n",
        "# filter()\n",
        "result_filter = filter(lambda x: x > 2, [1, 2, 3, 4])"
      ],
      "metadata": {
        "id": "VLAHHejTiHMc"
      },
      "execution_count": 11,
      "outputs": []
    },
    {
      "cell_type": "markdown",
      "source": [
        "# 11. Using pen & Paper write the internal mechanism for sum operation using  reduce function on this given\n",
        "list:[47,11,42,13];"
      ],
      "metadata": {
        "id": "7oP6HzdLieaq"
      }
    },
    {
      "cell_type": "code",
      "source": [
        "from google.colab import files\n",
        "upload = files.upload()"
      ],
      "metadata": {
        "colab": {
          "base_uri": "https://localhost:8080/",
          "height": 73
        },
        "id": "J_Lf0OA4uKNE",
        "outputId": "d89f7976-1c41-4c80-9578-3d1df1ff982e"
      },
      "execution_count": 12,
      "outputs": [
        {
          "output_type": "display_data",
          "data": {
            "text/plain": [
              "<IPython.core.display.HTML object>"
            ],
            "text/html": [
              "\n",
              "     <input type=\"file\" id=\"files-465679a2-ef20-420d-81a4-0981f5f6eba4\" name=\"files[]\" multiple disabled\n",
              "        style=\"border:none\" />\n",
              "     <output id=\"result-465679a2-ef20-420d-81a4-0981f5f6eba4\">\n",
              "      Upload widget is only available when the cell has been executed in the\n",
              "      current browser session. Please rerun this cell to enable.\n",
              "      </output>\n",
              "      <script>// Copyright 2017 Google LLC\n",
              "//\n",
              "// Licensed under the Apache License, Version 2.0 (the \"License\");\n",
              "// you may not use this file except in compliance with the License.\n",
              "// You may obtain a copy of the License at\n",
              "//\n",
              "//      http://www.apache.org/licenses/LICENSE-2.0\n",
              "//\n",
              "// Unless required by applicable law or agreed to in writing, software\n",
              "// distributed under the License is distributed on an \"AS IS\" BASIS,\n",
              "// WITHOUT WARRANTIES OR CONDITIONS OF ANY KIND, either express or implied.\n",
              "// See the License for the specific language governing permissions and\n",
              "// limitations under the License.\n",
              "\n",
              "/**\n",
              " * @fileoverview Helpers for google.colab Python module.\n",
              " */\n",
              "(function(scope) {\n",
              "function span(text, styleAttributes = {}) {\n",
              "  const element = document.createElement('span');\n",
              "  element.textContent = text;\n",
              "  for (const key of Object.keys(styleAttributes)) {\n",
              "    element.style[key] = styleAttributes[key];\n",
              "  }\n",
              "  return element;\n",
              "}\n",
              "\n",
              "// Max number of bytes which will be uploaded at a time.\n",
              "const MAX_PAYLOAD_SIZE = 100 * 1024;\n",
              "\n",
              "function _uploadFiles(inputId, outputId) {\n",
              "  const steps = uploadFilesStep(inputId, outputId);\n",
              "  const outputElement = document.getElementById(outputId);\n",
              "  // Cache steps on the outputElement to make it available for the next call\n",
              "  // to uploadFilesContinue from Python.\n",
              "  outputElement.steps = steps;\n",
              "\n",
              "  return _uploadFilesContinue(outputId);\n",
              "}\n",
              "\n",
              "// This is roughly an async generator (not supported in the browser yet),\n",
              "// where there are multiple asynchronous steps and the Python side is going\n",
              "// to poll for completion of each step.\n",
              "// This uses a Promise to block the python side on completion of each step,\n",
              "// then passes the result of the previous step as the input to the next step.\n",
              "function _uploadFilesContinue(outputId) {\n",
              "  const outputElement = document.getElementById(outputId);\n",
              "  const steps = outputElement.steps;\n",
              "\n",
              "  const next = steps.next(outputElement.lastPromiseValue);\n",
              "  return Promise.resolve(next.value.promise).then((value) => {\n",
              "    // Cache the last promise value to make it available to the next\n",
              "    // step of the generator.\n",
              "    outputElement.lastPromiseValue = value;\n",
              "    return next.value.response;\n",
              "  });\n",
              "}\n",
              "\n",
              "/**\n",
              " * Generator function which is called between each async step of the upload\n",
              " * process.\n",
              " * @param {string} inputId Element ID of the input file picker element.\n",
              " * @param {string} outputId Element ID of the output display.\n",
              " * @return {!Iterable<!Object>} Iterable of next steps.\n",
              " */\n",
              "function* uploadFilesStep(inputId, outputId) {\n",
              "  const inputElement = document.getElementById(inputId);\n",
              "  inputElement.disabled = false;\n",
              "\n",
              "  const outputElement = document.getElementById(outputId);\n",
              "  outputElement.innerHTML = '';\n",
              "\n",
              "  const pickedPromise = new Promise((resolve) => {\n",
              "    inputElement.addEventListener('change', (e) => {\n",
              "      resolve(e.target.files);\n",
              "    });\n",
              "  });\n",
              "\n",
              "  const cancel = document.createElement('button');\n",
              "  inputElement.parentElement.appendChild(cancel);\n",
              "  cancel.textContent = 'Cancel upload';\n",
              "  const cancelPromise = new Promise((resolve) => {\n",
              "    cancel.onclick = () => {\n",
              "      resolve(null);\n",
              "    };\n",
              "  });\n",
              "\n",
              "  // Wait for the user to pick the files.\n",
              "  const files = yield {\n",
              "    promise: Promise.race([pickedPromise, cancelPromise]),\n",
              "    response: {\n",
              "      action: 'starting',\n",
              "    }\n",
              "  };\n",
              "\n",
              "  cancel.remove();\n",
              "\n",
              "  // Disable the input element since further picks are not allowed.\n",
              "  inputElement.disabled = true;\n",
              "\n",
              "  if (!files) {\n",
              "    return {\n",
              "      response: {\n",
              "        action: 'complete',\n",
              "      }\n",
              "    };\n",
              "  }\n",
              "\n",
              "  for (const file of files) {\n",
              "    const li = document.createElement('li');\n",
              "    li.append(span(file.name, {fontWeight: 'bold'}));\n",
              "    li.append(span(\n",
              "        `(${file.type || 'n/a'}) - ${file.size} bytes, ` +\n",
              "        `last modified: ${\n",
              "            file.lastModifiedDate ? file.lastModifiedDate.toLocaleDateString() :\n",
              "                                    'n/a'} - `));\n",
              "    const percent = span('0% done');\n",
              "    li.appendChild(percent);\n",
              "\n",
              "    outputElement.appendChild(li);\n",
              "\n",
              "    const fileDataPromise = new Promise((resolve) => {\n",
              "      const reader = new FileReader();\n",
              "      reader.onload = (e) => {\n",
              "        resolve(e.target.result);\n",
              "      };\n",
              "      reader.readAsArrayBuffer(file);\n",
              "    });\n",
              "    // Wait for the data to be ready.\n",
              "    let fileData = yield {\n",
              "      promise: fileDataPromise,\n",
              "      response: {\n",
              "        action: 'continue',\n",
              "      }\n",
              "    };\n",
              "\n",
              "    // Use a chunked sending to avoid message size limits. See b/62115660.\n",
              "    let position = 0;\n",
              "    do {\n",
              "      const length = Math.min(fileData.byteLength - position, MAX_PAYLOAD_SIZE);\n",
              "      const chunk = new Uint8Array(fileData, position, length);\n",
              "      position += length;\n",
              "\n",
              "      const base64 = btoa(String.fromCharCode.apply(null, chunk));\n",
              "      yield {\n",
              "        response: {\n",
              "          action: 'append',\n",
              "          file: file.name,\n",
              "          data: base64,\n",
              "        },\n",
              "      };\n",
              "\n",
              "      let percentDone = fileData.byteLength === 0 ?\n",
              "          100 :\n",
              "          Math.round((position / fileData.byteLength) * 100);\n",
              "      percent.textContent = `${percentDone}% done`;\n",
              "\n",
              "    } while (position < fileData.byteLength);\n",
              "  }\n",
              "\n",
              "  // All done.\n",
              "  yield {\n",
              "    response: {\n",
              "      action: 'complete',\n",
              "    }\n",
              "  };\n",
              "}\n",
              "\n",
              "scope.google = scope.google || {};\n",
              "scope.google.colab = scope.google.colab || {};\n",
              "scope.google.colab._files = {\n",
              "  _uploadFiles,\n",
              "  _uploadFilesContinue,\n",
              "};\n",
              "})(self);\n",
              "</script> "
            ]
          },
          "metadata": {}
        },
        {
          "output_type": "stream",
          "name": "stdout",
          "text": [
            "Saving IMG20250120180035.jpg to IMG20250120180035.jpg\n"
          ]
        }
      ]
    },
    {
      "cell_type": "markdown",
      "source": [
        "# 1. Sum of All Even Numbers in the List"
      ],
      "metadata": {
        "id": "Br2Tnf8Hv1Cv"
      }
    },
    {
      "cell_type": "code",
      "source": [
        "def sum_of_even_numbers(numbers):\n",
        "    return sum(num for num in numbers if num % 2 == 0)\n",
        "\n",
        "# Example usage:\n",
        "numbers = [1, 2, 3, 4, 5, 6]\n",
        "result = sum_of_even_numbers(numbers)\n",
        "print(result)"
      ],
      "metadata": {
        "colab": {
          "base_uri": "https://localhost:8080/"
        },
        "id": "YWosj9bbv5aG",
        "outputId": "931e4ef9-7e9e-4a25-8e7e-f8bc693df8bd"
      },
      "execution_count": 13,
      "outputs": [
        {
          "output_type": "stream",
          "name": "stdout",
          "text": [
            "12\n"
          ]
        }
      ]
    },
    {
      "cell_type": "markdown",
      "source": [
        "# 2. Reverse a String\n",
        "\n"
      ],
      "metadata": {
        "id": "CvbC01w0wIZH"
      }
    },
    {
      "cell_type": "code",
      "source": [
        "def reverse_string(s):\n",
        "    return s[::-1]\n",
        "\n",
        "string = \"hello\"\n",
        "result = reverse_string(string)\n",
        "print(result)"
      ],
      "metadata": {
        "colab": {
          "base_uri": "https://localhost:8080/"
        },
        "id": "gf2izpe1wLxR",
        "outputId": "8ad023ae-ae14-4242-ceb0-7cdbb1741df5"
      },
      "execution_count": 14,
      "outputs": [
        {
          "output_type": "stream",
          "name": "stdout",
          "text": [
            "olleh\n"
          ]
        }
      ]
    },
    {
      "cell_type": "markdown",
      "source": [
        "# 3. Squares of Each Number in a List"
      ],
      "metadata": {
        "id": "-CBeY2DMwXZr"
      }
    },
    {
      "cell_type": "code",
      "source": [
        "def square_numbers(numbers):\n",
        "    return [num ** 2 for num in numbers]\n",
        "\n",
        "# Example usage:\n",
        "numbers = [1, 2, 3, 4]\n",
        "result = square_numbers(numbers)\n",
        "print(result)"
      ],
      "metadata": {
        "colab": {
          "base_uri": "https://localhost:8080/"
        },
        "id": "0UD1QnyuwdhW",
        "outputId": "72613177-8709-407c-9c3c-a2a7c7b9a355"
      },
      "execution_count": 15,
      "outputs": [
        {
          "output_type": "stream",
          "name": "stdout",
          "text": [
            "[1, 4, 9, 16]\n"
          ]
        }
      ]
    },
    {
      "cell_type": "markdown",
      "source": [
        "# 4. Check If a Number Is Prime (1 to 200)"
      ],
      "metadata": {
        "id": "VsOLmMTcwtSU"
      }
    },
    {
      "cell_type": "code",
      "source": [
        "def is_prime(n):\n",
        "    if n <= 1:\n",
        "        return False\n",
        "    for i in range(2, int(n**0.5) + 1):\n",
        "        if n % i == 0:\n",
        "            return False\n",
        "    return True\n",
        "\n",
        "# Example usage:\n",
        "for number in range(1, 200):\n",
        "    if is_prime(number):\n",
        "        print(number)"
      ],
      "metadata": {
        "colab": {
          "base_uri": "https://localhost:8080/"
        },
        "id": "CyboKN6jwwOP",
        "outputId": "bf2eb844-1176-41e0-a66e-d447a314d915"
      },
      "execution_count": 17,
      "outputs": [
        {
          "output_type": "stream",
          "name": "stdout",
          "text": [
            "2\n",
            "3\n",
            "5\n",
            "7\n",
            "11\n",
            "13\n",
            "17\n",
            "19\n",
            "23\n",
            "29\n",
            "31\n",
            "37\n",
            "41\n",
            "43\n",
            "47\n",
            "53\n",
            "59\n",
            "61\n",
            "67\n",
            "71\n",
            "73\n",
            "79\n",
            "83\n",
            "89\n",
            "97\n",
            "101\n",
            "103\n",
            "107\n",
            "109\n",
            "113\n",
            "127\n",
            "131\n",
            "137\n",
            "139\n",
            "149\n",
            "151\n",
            "157\n",
            "163\n",
            "167\n",
            "173\n",
            "179\n",
            "181\n",
            "191\n",
            "193\n",
            "197\n",
            "199\n"
          ]
        }
      ]
    },
    {
      "cell_type": "markdown",
      "source": [
        "# 5. Iterator Class for Fibonacci Sequence"
      ],
      "metadata": {
        "id": "DjwTbzUYxV90"
      }
    },
    {
      "cell_type": "code",
      "source": [
        "class FibonacciIterator:\n",
        "    def __init__(self, n):\n",
        "        self.n = n\n",
        "        self.a, self.b = 0, 1\n",
        "        self.count = 0\n",
        "\n",
        "    def __iter__(self):\n",
        "        return self\n",
        "\n",
        "    def __next__(self):\n",
        "        if self.count < self.n:\n",
        "            result = self.a\n",
        "            self.a, self.b = self.b, self.a + self.b\n",
        "            self.count += 1\n",
        "            return result\n",
        "        else:\n",
        "            raise StopIteration\n",
        "\n",
        "# Example usage:\n",
        "fibonacci = FibonacciIterator(10)\n",
        "for num in fibonacci:\n",
        "    print(num)"
      ],
      "metadata": {
        "colab": {
          "base_uri": "https://localhost:8080/"
        },
        "id": "sjZlXnM8xdEf",
        "outputId": "6a45331e-d834-4553-87ce-7ea72ccfd609"
      },
      "execution_count": 18,
      "outputs": [
        {
          "output_type": "stream",
          "name": "stdout",
          "text": [
            "0\n",
            "1\n",
            "1\n",
            "2\n",
            "3\n",
            "5\n",
            "8\n",
            "13\n",
            "21\n",
            "34\n"
          ]
        }
      ]
    },
    {
      "cell_type": "markdown",
      "source": [
        "# 6. Generator Function for Powers of 2"
      ],
      "metadata": {
        "id": "n0dK_tBOxq7I"
      }
    },
    {
      "cell_type": "code",
      "source": [
        "def powers_of_2(exponent):\n",
        "    for i in range(exponent + 1):\n",
        "        yield 2 ** i\n",
        "\n",
        "# Example usage:\n",
        "for power in powers_of_2(5):\n",
        "    print(power)"
      ],
      "metadata": {
        "colab": {
          "base_uri": "https://localhost:8080/"
        },
        "id": "ZLK_XVobxw5Y",
        "outputId": "1016aaf7-5900-4978-fcd3-4a0ddf3505eb"
      },
      "execution_count": 19,
      "outputs": [
        {
          "output_type": "stream",
          "name": "stdout",
          "text": [
            "1\n",
            "2\n",
            "4\n",
            "8\n",
            "16\n",
            "32\n"
          ]
        }
      ]
    },
    {
      "cell_type": "markdown",
      "source": [
        "# 7. Generator Function to Read a File Line by Line"
      ],
      "metadata": {
        "id": "DBFF27pRyG8o"
      }
    },
    {
      "cell_type": "code",
      "source": [
        "def read_file_line_by_line(file_path):\n",
        "    with open(file_path, 'r') as file:\n",
        "        for line in file:\n",
        "            yield line.strip()"
      ],
      "metadata": {
        "id": "OA5ONp-ZyJPB"
      },
      "execution_count": 20,
      "outputs": []
    },
    {
      "cell_type": "markdown",
      "source": [
        "# 8. Lambda Function to Sort List of Tuples by Second Element"
      ],
      "metadata": {
        "id": "xfbovVyt0KNM"
      }
    },
    {
      "cell_type": "code",
      "source": [
        "tuples = [(1, 5), (2, 3), (4, 1), (6, 2)]\n",
        "sorted_tuples = sorted(tuples, key=lambda x: x[1])\n",
        "\n",
        "# Example usage:\n",
        "print(sorted_tuples)"
      ],
      "metadata": {
        "colab": {
          "base_uri": "https://localhost:8080/"
        },
        "id": "QI1c7ybI0R_Q",
        "outputId": "0059ae3b-fa54-44dc-88f1-de73ec1abda1"
      },
      "execution_count": 25,
      "outputs": [
        {
          "output_type": "stream",
          "name": "stdout",
          "text": [
            "[(4, 1), (6, 2), (2, 3), (1, 5)]\n"
          ]
        }
      ]
    },
    {
      "cell_type": "markdown",
      "source": [
        "# 9. Convert Celsius to Fahrenheit Using map()\n",
        "\n"
      ],
      "metadata": {
        "id": "JGm13bOv0da6"
      }
    },
    {
      "cell_type": "code",
      "source": [
        "def celsius_to_fahrenheit(celsius):\n",
        "    return (celsius * 9/5) + 32\n",
        "\n",
        "# Example usage:\n",
        "celsius_temps = [0, 20, 100]\n",
        "fahrenheit_temps = list(map(celsius_to_fahrenheit, celsius_temps))\n",
        "print(fahrenheit_temps)"
      ],
      "metadata": {
        "colab": {
          "base_uri": "https://localhost:8080/"
        },
        "id": "C5zv87Z20jqN",
        "outputId": "491c280b-9b70-4877-f14e-d33f1c945c3c"
      },
      "execution_count": 26,
      "outputs": [
        {
          "output_type": "stream",
          "name": "stdout",
          "text": [
            "[32.0, 68.0, 212.0]\n"
          ]
        }
      ]
    },
    {
      "cell_type": "markdown",
      "source": [
        "# 10. Remove All Vowels from a String Using filter()"
      ],
      "metadata": {
        "id": "Q9vVR0QF0rjD"
      }
    },
    {
      "cell_type": "code",
      "source": [
        "def remove_vowels(s):\n",
        "    vowels = \"aeiouAEIOU\"\n",
        "    return ''.join(filter(lambda x: x not in vowels, s))\n",
        "\n",
        "# Example usage:\n",
        "string = \"Hello World\"\n",
        "result = remove_vowels(string)\n",
        "print(result)"
      ],
      "metadata": {
        "colab": {
          "base_uri": "https://localhost:8080/"
        },
        "id": "Cr6WNMtp0xGd",
        "outputId": "3fb08155-48b8-4397-a0cd-0d876a6dd29e"
      },
      "execution_count": 27,
      "outputs": [
        {
          "output_type": "stream",
          "name": "stdout",
          "text": [
            "Hll Wrld\n"
          ]
        }
      ]
    },
    {
      "cell_type": "markdown",
      "source": [
        "# 11"
      ],
      "metadata": {
        "id": "NbC3fTh72rm8"
      }
    },
    {
      "cell_type": "code",
      "source": [
        "orders = [[34587, \"learning python, mark lutz\",4 ,40,.95],\n",
        "         [98762, \",programming python, mark lutz\", 5, 56.80],\n",
        "         [77226, \"head first python, paul barry\", 3, 32.95],\n",
        "         [88112, \"einfuhrung in python3,bernd klein\", 3, 24.99]]\n",
        "processed_orders = process_orders(ordrers)\n",
        "print(processed_orders)\n"
      ],
      "metadata": {
        "colab": {
          "base_uri": "https://localhost:8080/",
          "height": 193
        },
        "id": "BRKAMzZV2s-f",
        "outputId": "c1f15acd-efea-45e0-f227-f60eec5680ad"
      },
      "execution_count": 30,
      "outputs": [
        {
          "output_type": "error",
          "ename": "NameError",
          "evalue": "name 'process_orders' is not defined",
          "traceback": [
            "\u001b[0;31m---------------------------------------------------------------------------\u001b[0m",
            "\u001b[0;31mNameError\u001b[0m                                 Traceback (most recent call last)",
            "\u001b[0;32m<ipython-input-30-8d3452b4600b>\u001b[0m in \u001b[0;36m<cell line: 0>\u001b[0;34m()\u001b[0m\n\u001b[1;32m      3\u001b[0m          \u001b[0;34m[\u001b[0m\u001b[0;36m77226\u001b[0m\u001b[0;34m,\u001b[0m \u001b[0;34m\"head first python, paul barry\"\u001b[0m\u001b[0;34m,\u001b[0m \u001b[0;36m3\u001b[0m\u001b[0;34m,\u001b[0m \u001b[0;36m32.95\u001b[0m\u001b[0;34m]\u001b[0m\u001b[0;34m,\u001b[0m\u001b[0;34m\u001b[0m\u001b[0;34m\u001b[0m\u001b[0m\n\u001b[1;32m      4\u001b[0m          [88112, \"einfuhrung in python3,bernd klein\", 3, 24.99]]\n\u001b[0;32m----> 5\u001b[0;31m \u001b[0mprocessed_orders\u001b[0m \u001b[0;34m=\u001b[0m \u001b[0mprocess_orders\u001b[0m\u001b[0;34m(\u001b[0m\u001b[0mordrers\u001b[0m\u001b[0;34m)\u001b[0m\u001b[0;34m\u001b[0m\u001b[0;34m\u001b[0m\u001b[0m\n\u001b[0m\u001b[1;32m      6\u001b[0m \u001b[0mprint\u001b[0m\u001b[0;34m(\u001b[0m\u001b[0mprocessed_orders\u001b[0m\u001b[0;34m)\u001b[0m\u001b[0;34m\u001b[0m\u001b[0;34m\u001b[0m\u001b[0m\n",
            "\u001b[0;31mNameError\u001b[0m: name 'process_orders' is not defined"
          ]
        }
      ]
    },
    {
      "cell_type": "markdown",
      "source": [
        "Here’s a Python program that satisfies your request using lambda and map. The program takes a list of orders, where each order consists of an order number, price per item, and quantity. It calculates the product of the price and quantity for each order. If the product is less than 100€, it adds 10€ to the value of that order."
      ],
      "metadata": {
        "id": "hkFNntIJ7yVO"
      }
    },
    {
      "cell_type": "code",
      "source": [
        "orders = [\n",
        "    [101, 20.5, 3],    # Order 101: Price 20.5€, Quantity 3\n",
        "    [102, 45.0, 2],    # Order 102: Price 45€, Quantity 2\n",
        "    [103, 15.99, 5],   # Order 103: Price 15.99€, Quantity 5\n",
        "    [104, 95.0, 1]     # Order 104: Price 95€, Quantity 1\n",
        "]\n",
        "\n",
        "# Using lambda and map to calculate the required list of 2-tuples\n",
        "result = list(map(lambda order: (\n",
        "    order[0],  # Order number\n",
        "    (order[1] * order[2]) + 10 if (order[1] * order[2]) < 100 else order[1] * order[2]\n",
        "), orders))\n",
        "\n",
        "# Print the result\n",
        "print(result)"
      ],
      "metadata": {
        "colab": {
          "base_uri": "https://localhost:8080/"
        },
        "id": "G5wb6IVe7zWH",
        "outputId": "a4931708-583f-4ae4-d296-773ab80c9a51"
      },
      "execution_count": 31,
      "outputs": [
        {
          "output_type": "stream",
          "name": "stdout",
          "text": [
            "[(101, 71.5), (102, 100.0), (103, 89.95), (104, 105.0)]\n"
          ]
        }
      ]
    },
    {
      "cell_type": "markdown",
      "source": [
        "###Explanation:\n",
        "1.Order List: Each order is represented as a sublist, and each sublist contains:\n",
        "\n",
        "- Order number (e.g., 101)\n",
        "- Price per item (e.g., 20.5)\n",
        "- Quantity (e.g., 3)\n",
        "####2.Lambda Function:\n",
        "\n",
        "- The lambda function receives an order and calculates the total value as order[1] * order[2].\n",
        "- If the calculated total value is less than 100€, the function adds 10€.\n",
        "- The lambda returns a tuple with the order number (order[0]) and the adjusted total value.\n",
        "#### 3. map():\n",
        "\n",
        "- The map() function applies the lambda function to each order in the orders list.\n",
        "- We convert the result of map() to a list using list() to make it easier to display."
      ],
      "metadata": {
        "id": "ZtyhasCk8Ng1"
      }
    },
    {
      "cell_type": "code",
      "source": [
        "[\n",
        "    [101, 20.5, 3],    # Order 101: Price 20.5€, Quantity 3\n",
        "    [102, 45.0, 2],    # Order 102: Price 45€, Quantity 2\n",
        "    [103, 15.99, 5],   # Order 103: Price 15.99€, Quantity 5\n",
        "    [104, 95.0, 1]     # Order 104: Price 95€, Quantity 1\n",
        "]"
      ],
      "metadata": {
        "colab": {
          "base_uri": "https://localhost:8080/"
        },
        "id": "AHcBWLu78-SH",
        "outputId": "16211e6c-b6f7-4a0f-ee38-2ae99d51e161"
      },
      "execution_count": 32,
      "outputs": [
        {
          "output_type": "execute_result",
          "data": {
            "text/plain": [
              "[[101, 20.5, 3], [102, 45.0, 2], [103, 15.99, 5], [104, 95.0, 1]]"
            ]
          },
          "metadata": {},
          "execution_count": 32
        }
      ]
    },
    {
      "cell_type": "markdown",
      "source": [
        "- The program efficiently computes the total for each order and applies the adjustment based on the specified condition (total value < 100€).\n",
        "\n",
        "- Using lambda and map() provides a concise and functional approach to solve this problem."
      ],
      "metadata": {
        "id": "tn7OAR-p9MEZ"
      }
    },
    {
      "cell_type": "code",
      "source": [],
      "metadata": {
        "id": "FqUxQRx69Q3f"
      },
      "execution_count": null,
      "outputs": []
    }
  ]
}